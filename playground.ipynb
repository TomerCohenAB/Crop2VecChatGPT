{
 "cells": [
  {
   "cell_type": "code",
   "execution_count": 2,
   "metadata": {},
   "outputs": [
    {
     "name": "stdout",
     "output_type": "stream",
     "text": [
      "[]\n"
     ]
    }
   ],
   "source": [
    "from openai import OpenAI\n",
    "from dotenv import load_dotenv\n",
    "import os\n",
    "\n",
    "load_dotenv()\n",
    "client = OpenAI(api_key=os.getenv('CHATGPT_API_KEY'))\n",
    "\n",
    "my_assistants = client.beta.assistants.list(\n",
    "    order=\"desc\",\n",
    "    limit=\"20\",\n",
    ")\n",
    "print(my_assistants.data)"
   ]
  },
  {
   "cell_type": "code",
   "execution_count": 6,
   "metadata": {},
   "outputs": [],
   "source": [
    "\n",
    "instructions = \"\"\"\n",
    "Identify if a pedestrian is present within a red bounding box in an image.\n",
    "\n",
    "Criteria:\n",
    "\n",
    "* Presence: Any part of a real human within the box constitutes a \"pedestrian.\"\n",
    "* Context: The pedestrian may be on foot, riding a vehicle (e.g., bicycle, motorcycle), or inside a vehicle.\n",
    "* Exclusion: Pedestrians depicted in signs, posters, or other media are not considered \"real\" pedestrians.\n",
    "\n",
    "Output:\n",
    "\n",
    "* \"ped\": If a pedestrian is present within the bounding box.\n",
    "* \"fa\": If no pedestrian is present within the bounding box.\n",
    "\n",
    "Note: The assistant should focus on the specific area defined by the red bounding box and ignore elements outside of it.\n",
    "\"\"\"\n",
    "\n",
    "my_assistant = client.beta.assistants.create(\n",
    "    instructions=instructions,\n",
    "    name=\"FaRemoval\",\n",
    "    model=\"gpt-4o\",\n",
    ")"
   ]
  },
  {
   "cell_type": "code",
   "execution_count": 7,
   "metadata": {},
   "outputs": [
    {
     "name": "stdout",
     "output_type": "stream",
     "text": [
      "[Assistant(id='asst_GSfa8WShZkY8LIzCvKmUN3mZ', created_at=1725183519, description=None, instructions='\\nIdentify if a pedestrian is present within a red bounding box in an image.\\n\\nCriteria:\\n\\n* Presence: Any part of a real human within the box constitutes a \"pedestrian.\"\\n* Context: The pedestrian may be on foot, riding a vehicle (e.g., bicycle, motorcycle), or inside a vehicle.\\n* Exclusion: Pedestrians depicted in signs, posters, or other media are not considered \"real\" pedestrians.\\n\\nOutput:\\n\\n* \"ped\": If a pedestrian is present within the bounding box.\\n* \"fa\": If no pedestrian is present within the bounding box.\\n\\nNote: The assistant should focus on the specific area defined by the red bounding box and ignore elements outside of it.\\n', metadata={}, model='gpt-4o', name='FaRemoval', object='assistant', tools=[], response_format='auto', temperature=1.0, tool_resources=ToolResources(code_interpreter=None, file_search=None), top_p=1.0), Assistant(id='asst_GaHNh5kxLuLW6W4Q9FCk6vpZ', created_at=1721635330, description=None, instructions=None, metadata={}, model='gpt-4o-mini', name=None, object='assistant', tools=[], response_format='auto', temperature=1.0, tool_resources=ToolResources(code_interpreter=None, file_search=None), top_p=1.0)]\n"
     ]
    }
   ],
   "source": [
    "my_assistants = client.beta.assistants.list(\n",
    "    order=\"desc\",\n",
    "    limit=\"20\",\n",
    ")\n",
    "print(my_assistants.data)"
   ]
  },
  {
   "cell_type": "code",
   "execution_count": 23,
   "metadata": {},
   "outputs": [],
   "source": [
    "assistant = client.beta.assistants.retrieve(\"asst_GSfa8WShZkY8LIzCvKmUN3mZ\")"
   ]
  },
  {
   "cell_type": "code",
   "execution_count": 24,
   "metadata": {},
   "outputs": [
    {
     "name": "stdout",
     "output_type": "stream",
     "text": [
      "gpt-4o\n"
     ]
    }
   ],
   "source": [
    "print(assistant.model)"
   ]
  },
  {
   "cell_type": "code",
   "execution_count": 25,
   "metadata": {},
   "outputs": [],
   "source": [
    "file1 = client.files.create(\n",
    "  file=open(\"/Users/tomercohen/Downloads/crop2vec_chatgpt/Manual_Tagged/crops_with_bb_false_ManualFalse/1684255282417818_det_3491.png\", \"rb\"),\n",
    "  purpose=\"vision\"\n",
    ")\n",
    "\n",
    "file2 = client.files.create(\n",
    "  file=open(\"/Users/tomercohen/Downloads/crop2vec_chatgpt/Manual_Tagged/crops_with_bb_false_ManualFalse/1684255193262310_det_5659.png\", \"rb\"),\n",
    "  purpose=\"vision\"\n",
    ")\n",
    "\n",
    "thread = client.beta.threads.create(\n",
    "  messages=[\n",
    "    {\n",
    "      \"role\": \"user\",\n",
    "      \"content\": [\n",
    "        {\n",
    "          \"type\": \"text\",\n",
    "          \"text\": \"What is the difference between these images?\"\n",
    "        },\n",
    "        {\n",
    "          \"type\": \"image_file\",\n",
    "          \"image_file\": {\"file_id\": file1.id, \"detail\": \"high\"}\n",
    "        },\n",
    "        {\n",
    "          \"type\": \"image_file\",\n",
    "          \"image_file\": {\"file_id\": file2.id}\n",
    "        },\n",
    "      ],\n",
    "    }\n",
    "  ]\n",
    ")"
   ]
  },
  {
   "cell_type": "code",
   "execution_count": 26,
   "metadata": {},
   "outputs": [],
   "source": [
    "run = client.beta.threads.runs.create(\n",
    "  thread_id=thread.id,\n",
    "  assistant_id=assistant.id\n",
    ")"
   ]
  },
  {
   "cell_type": "code",
   "execution_count": 29,
   "metadata": {},
   "outputs": [
    {
     "data": {
      "text/plain": [
       "'run_sYpuON8ARGS3vxg0ClcCbUzZ'"
      ]
     },
     "execution_count": 29,
     "metadata": {},
     "output_type": "execute_result"
    }
   ],
   "source": [
    "run.id"
   ]
  },
  {
   "cell_type": "code",
   "execution_count": 31,
   "metadata": {},
   "outputs": [],
   "source": [
    "run_result = client.beta.threads.runs.retrieve(run_id='run_sYpuON8ARGS3vxg0ClcCbUzZ', thread_id=thread.id)"
   ]
  },
  {
   "cell_type": "code",
   "execution_count": 33,
   "metadata": {},
   "outputs": [
    {
     "ename": "TypeError",
     "evalue": "'Run' object is not subscriptable",
     "output_type": "error",
     "traceback": [
      "\u001b[0;31m---------------------------------------------------------------------------\u001b[0m",
      "\u001b[0;31mTypeError\u001b[0m                                 Traceback (most recent call last)",
      "Cell \u001b[0;32mIn[33], line 1\u001b[0m\n\u001b[0;32m----> 1\u001b[0m \u001b[43mrun_result\u001b[49m\u001b[43m[\u001b[49m\u001b[38;5;124;43m'\u001b[39;49m\u001b[38;5;124;43mmessages\u001b[39;49m\u001b[38;5;124;43m'\u001b[39;49m\u001b[43m]\u001b[49m\n",
      "\u001b[0;31mTypeError\u001b[0m: 'Run' object is not subscriptable"
     ]
    }
   ],
   "source": [
    "run_result['messages']"
   ]
  }
 ],
 "metadata": {
  "kernelspec": {
   "display_name": "base",
   "language": "python",
   "name": "python3"
  },
  "language_info": {
   "codemirror_mode": {
    "name": "ipython",
    "version": 3
   },
   "file_extension": ".py",
   "mimetype": "text/x-python",
   "name": "python",
   "nbconvert_exporter": "python",
   "pygments_lexer": "ipython3",
   "version": "3.11.4"
  }
 },
 "nbformat": 4,
 "nbformat_minor": 2
}
