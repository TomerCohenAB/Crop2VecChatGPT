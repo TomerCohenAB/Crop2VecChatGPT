{
 "cells": [
  {
   "cell_type": "code",
   "execution_count": 2,
   "metadata": {},
   "outputs": [
    {
     "name": "stdout",
     "output_type": "stream",
     "text": [
      "Images have been copied successfully to the new directory.\n"
     ]
    }
   ],
   "source": [
    "import os\n",
    "import shutil\n",
    "\n",
    "# Define the paths\n",
    "base_manual_tagged = '/Users/tomercohen/Downloads/crop2vec_chatgpt/Manual_Tagged'\n",
    "base_new_images_true = '/Users/tomercohen/Downloads/crop2vec_chatgpt/Manual_Tagged_crops_multi_context/RAW/crops_with_bb_true_3vars_multi_context'\n",
    "base_new_images_false = '/Users/tomercohen/Downloads/crop2vec_chatgpt/Manual_Tagged_crops_multi_context/RAW/crops_with_bb_false_3vars_multi_context'\n",
    "output_base = '/Users/tomercohen/Downloads/crop2vec_chatgpt/Manual_Tagged_crops_multi_context'\n",
    "\n",
    "# Define the subdirectories based on manual tagging\n",
    "manual_subdirs = {\n",
    "    'true_false': 'crops_with_bb_true_ManualFalse',\n",
    "    'true_true': 'crops_with_bb_true_ManualTrue',\n",
    "    'false_false': 'crops_with_bb_false_ManualFalse',\n",
    "    'false_true': 'crops_with_bb_false_ManualTrue'\n",
    "}\n",
    "\n",
    "# Create the new output directory structure\n",
    "for key in manual_subdirs:\n",
    "    new_dir_path = os.path.join(output_base, manual_subdirs[key])\n",
    "    if not os.path.exists(new_dir_path):\n",
    "        os.makedirs(new_dir_path)\n",
    "\n",
    "# Function to copy images\n",
    "def copy_images(image_name, source_dir, dest_dir):\n",
    "    # Define the four image variations\n",
    "    image_variations = [\n",
    "        f\"{image_name}_crop.png\",\n",
    "        f\"{image_name}_context_2.png\",\n",
    "        f\"{image_name}_context_5.png\",\n",
    "        f\"{image_name}_context_10.png\",\n",
    "        f\"{image_name}_orig.png\"\n",
    "    ]\n",
    "\n",
    "    # Copy each variation from source to destination\n",
    "    for variation in image_variations:\n",
    "        src_path = os.path.join(source_dir, variation)\n",
    "        if os.path.exists(src_path):\n",
    "            shutil.copy(src_path, dest_dir)\n",
    "        else:\n",
    "            print(f\"Warning: {src_path} does not exist.\")\n",
    "\n",
    "# Loop through each manual subdirectory and copy corresponding images\n",
    "for label in ['ManualFalse', 'ManualTrue']:\n",
    "    for bb_type in ['true', 'false']:\n",
    "        # Determine the directory names and paths\n",
    "        manual_dir = os.path.join(base_manual_tagged, f'crops_with_bb_{bb_type}_{label}')\n",
    "        new_images_dir = base_new_images_true if bb_type == 'true' else base_new_images_false\n",
    "        output_dir = os.path.join(output_base, f'crops_with_bb_{bb_type}_{label}')\n",
    "\n",
    "        # List all images in the manual directory\n",
    "        for image_file in os.listdir(manual_dir):\n",
    "            if image_file.endswith('.png'):\n",
    "                # Extract the base image name (without extension)\n",
    "                # image_name = '_'.join(image_file.split('_')[:3]).strip('.png')\n",
    "                image_name = image_file.strip('.png')\n",
    "                \n",
    "                # Copy the images to the new directory\n",
    "                copy_images(image_name, new_images_dir, output_dir)\n",
    "\n",
    "print(\"Images have been copied successfully to the new directory.\")"
   ]
  },
  {
   "cell_type": "code",
   "execution_count": null,
   "metadata": {},
   "outputs": [],
   "source": []
  }
 ],
 "metadata": {
  "kernelspec": {
   "display_name": "base",
   "language": "python",
   "name": "python3"
  },
  "language_info": {
   "codemirror_mode": {
    "name": "ipython",
    "version": 3
   },
   "file_extension": ".py",
   "mimetype": "text/x-python",
   "name": "python",
   "nbconvert_exporter": "python",
   "pygments_lexer": "ipython3",
   "version": "3.11.4"
  }
 },
 "nbformat": 4,
 "nbformat_minor": 2
}
