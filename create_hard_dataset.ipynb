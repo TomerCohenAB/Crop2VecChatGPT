{
 "cells": [
  {
   "cell_type": "code",
   "execution_count": 4,
   "metadata": {},
   "outputs": [
    {
     "name": "stdout",
     "output_type": "stream",
     "text": [
      "IMAGEIDs have been written to /Users/tomercohen/Downloads/crop2vec_chatgpt/Tagged_images_Manual_Tagged_3vars_5x.txt\n"
     ]
    }
   ],
   "source": [
    "import os\n",
    "import re\n",
    "from pathlib import Path\n",
    "\n",
    "def list_image_ids(directory, output_file):\n",
    "    # Regular expression to match the IMAGEID pattern in file names\n",
    "    pattern = re.compile(r'_det_(\\d+)_')\n",
    "\n",
    "    # List to store IMAGEIDs\n",
    "    image_ids = []\n",
    "\n",
    "    # Traverse through all subdirectories\n",
    "    for subdir, subdirs, files in os.walk(directory):\n",
    "        # Filter subdirectories that start with \"crops_with_bb\"\n",
    "        subdirs[:] = [d for d in subdirs if d.startswith(\"crops_with_bb\")]\n",
    "        \n",
    "        for file in files:\n",
    "            # Check if the file name matches the pattern\n",
    "            match = pattern.search(file)\n",
    "            if match:\n",
    "                # Extract IMAGEID and add to the list\n",
    "                image_id = match.group(1)\n",
    "                image_ids.append(image_id)\n",
    "    \n",
    "    # Write the IMAGEIDs to the output file\n",
    "    with open(output_file, 'w') as f:\n",
    "        for image_id in sorted(set(image_ids)):\n",
    "            f.write(f\"{image_id}\\n\")\n",
    "\n",
    "    print(f\"IMAGEIDs have been written to {output_file}\")\n",
    "\n",
    "\n",
    "# Example usage\n",
    "# directory = '/Users/tomercohen/Downloads/crop2vec_chatgpt/Manual_Tagged_ChatGPT_errors_all_data_3var_5x'  \n",
    "directory = '/Users/tomercohen/Downloads/crop2vec_chatgpt/Manual_Tagged_3vars_5x'  \n",
    "hard_dir_name = Path(directory).name\n",
    "output_file = f'/Users/tomercohen/Downloads/crop2vec_chatgpt/Tagged_images_{hard_dir_name}.txt'\n",
    "# output_file = f'/Users/tomercohen/Downloads/crop2vec_chatgpt/hard_images_{hard_dir_name}.txt'\n",
    "list_image_ids(directory, output_file)\n"
   ]
  }
 ],
 "metadata": {
  "kernelspec": {
   "display_name": "base",
   "language": "python",
   "name": "python3"
  },
  "language_info": {
   "codemirror_mode": {
    "name": "ipython",
    "version": 3
   },
   "file_extension": ".py",
   "mimetype": "text/x-python",
   "name": "python",
   "nbconvert_exporter": "python",
   "pygments_lexer": "ipython3",
   "version": "3.11.4"
  }
 },
 "nbformat": 4,
 "nbformat_minor": 2
}
